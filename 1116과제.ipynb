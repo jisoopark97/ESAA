{
 "cells": [
  {
   "cell_type": "markdown",
   "metadata": {},
   "source": [
    "### 1. CH08-연습문제 1번\n",
    "데이터셋의 차원을 축소하는 주요 목적은 무엇인가요? 대표적인 단점은 무엇인가요?"
   ]
  },
  {
   "cell_type": "markdown",
   "metadata": {},
   "source": [
    "차원 축소의 주요 목적은 훈련 속도를 높이고, 잡음이나 불필요한 세부사항을 걸러내서 성능을 높이는 것이다. 또한, 데이터 시각화를 통해 중요한 특성에 대한 통찰을 얻기 위해 데이터셋의 차원을 축소한다.\n",
    "차원 축소의 단점은, 데이터 유실로 인해 훈련 알고리즘의 성능을 감소시킬 수 있다는 것, 계산 비용이 높다는 것, 파이프라인의 복잡도를 증가시키는 것 등이 있다."
   ]
  },
  {
   "cell_type": "markdown",
   "metadata": {},
   "source": [
    "### 2. CH08-연습문제 7번\n",
    "어떤 데이터셋에 적용한 차원 축소 알고리즘의 성능을 어떻게 평가할 수 있을까요?"
   ]
  },
  {
   "cell_type": "markdown",
   "metadata": {},
   "source": [
    "역변환을 통해 재구성 오차를 계산하는 방법이 있다. 하지만 모든 차원 축소 알고리즘이 역변환을 제공하지 않기 때문에 알고리즘 사용 전 원래의 데이터셋과 차원 축소 후의 데이터셋이 비슷한 정확도를 보인다면 알고리즘의 성능이 높다고 평가할 수 있다. "
   ]
  },
  {
   "cell_type": "markdown",
   "metadata": {},
   "source": [
    "### 3. CH09-연습문제 3번\n",
    "k-평균을 사용할 때 적절한 클러스터 개수를 선택할 수 있는 두 가지 기법을 설명하세요."
   ]
  },
  {
   "cell_type": "markdown",
   "metadata": {},
   "source": [
    "k-평균을 사용할 때 적절한 클러스터 개수를 선택할 수 있는 방법에는 엘보 규칙과 실루엣 점수가 있다.먼저, 엘보 규칙은 클러스터 개수의 함수로 이너셔를 그리고 그래프에서 이너셔가 더이상 빠르게 감소하지 않는 지점인 엘보를 찾는 기법이다. 일반적으로 이 지점이 최적의 클러스터 개수에 가깝다. 두번째 방법으로는 실루엣 스코어를 그래프로 그리는 방법인데, 그래프에 뾰족하게 올라간 지점이 나타나면 일반적으로 이 근처가 최적의 클러스터 개수가 된다."
   ]
  }
 ],
 "metadata": {
  "kernelspec": {
   "display_name": "Python 3",
   "language": "python",
   "name": "python3"
  },
  "language_info": {
   "codemirror_mode": {
    "name": "ipython",
    "version": 3
   },
   "file_extension": ".py",
   "mimetype": "text/x-python",
   "name": "python",
   "nbconvert_exporter": "python",
   "pygments_lexer": "ipython3",
   "version": "3.8.3"
  }
 },
 "nbformat": 4,
 "nbformat_minor": 4
}
